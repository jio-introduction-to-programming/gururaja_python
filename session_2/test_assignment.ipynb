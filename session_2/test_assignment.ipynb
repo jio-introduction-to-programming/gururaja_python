{
 "cells": [
  {
   "cell_type": "code",
   "execution_count": 1,
   "metadata": {},
   "outputs": [
    {
     "ename": "ModuleNotFoundError",
     "evalue": "No module named 'assignment'",
     "output_type": "error",
     "traceback": [
      "\u001b[1;31m---------------------------------------------------------------------------\u001b[0m",
      "\u001b[1;31mModuleNotFoundError\u001b[0m                       Traceback (most recent call last)",
      "Cell \u001b[1;32mIn[1], line 1\u001b[0m\n\u001b[1;32m----> 1\u001b[0m \u001b[39mfrom\u001b[39;00m \u001b[39massignment\u001b[39;00m \u001b[39mimport\u001b[39;00m (convert_to_int, find_max_of_numbers, get_char_from_num,\n\u001b[0;32m      2\u001b[0m                         get_num_from_char, calculate_sum_of_numbers, check_type_of_value,\n\u001b[0;32m      3\u001b[0m                         check_any_true_in_list, check_all_true_in_list, get_current_time)\n\u001b[0;32m      5\u001b[0m \u001b[39mdef\u001b[39;00m \u001b[39mtest_convert_to_int\u001b[39m():\n\u001b[0;32m      6\u001b[0m     \u001b[39massert\u001b[39;00m convert_to_int(\u001b[39m'\u001b[39m\u001b[39m5\u001b[39m\u001b[39m'\u001b[39m) \u001b[39m==\u001b[39m \u001b[39m5\u001b[39m\n",
      "\u001b[1;31mModuleNotFoundError\u001b[0m: No module named 'assignment'"
     ]
    }
   ],
   "source": [
    "from assignment import (convert_to_int, find_max_of_numbers, get_char_from_num,\n",
    "                        get_num_from_char, calculate_sum_of_numbers, check_type_of_value,\n",
    "                        check_any_true_in_list, check_all_true_in_list, get_current_time)\n",
    "\n",
    "def test_convert_to_int():\n",
    "    assert convert_to_int('5') == 5\n",
    "    assert convert_to_int('0') == 0\n",
    "    assert convert_to_int('-3') == -3\n",
    "\n",
    "def test_find_max_of_numbers():\n",
    "    assert find_max_of_numbers([1, 2, 3, 4, 5]) == 5\n",
    "    assert find_max_of_numbers([-1, -2, -3, -4, -5]) == -1\n",
    "    assert find_max_of_numbers([0]) == 0\n",
    "\n",
    "def test_get_char_from_num():\n",
    "    assert get_char_from_num(65) == 'A'\n",
    "    assert get_char_from_num(97) == 'a'\n",
    "    assert get_char_from_num(48) == '0'\n",
    "\n",
    "def test_get_num_from_char():\n",
    "    assert get_num_from_char('A') == 65\n",
    "    assert get_num_from_char('a') == 97\n",
    "    assert get_num_from_char('0') == 48\n",
    "\n",
    "def test_calculate_sum_of_numbers():\n",
    "    assert calculate_sum_of_numbers([1, 2, 3, 4, 5]) == 15\n",
    "    assert calculate_sum_of_numbers([-1, -2, -3, -4, -5]) == -15\n",
    "    assert calculate_sum_of_numbers([0]) == 0\n",
    "\n",
    "def test_check_type_of_value():\n",
    "    assert check_type_of_value(5) == int\n",
    "    assert check_type_of_value('hello') == str\n",
    "    assert check_type_of_value([1, 2, 3]) == list\n",
    "\n",
    "def test_check_any_true_in_list():\n",
    "    assert check_any_true_in_list([0, False, None]) == False\n",
    "    assert check_any_true_in_list([0, 1, False]) == True\n",
    "\n",
    "def test_check_all_true_in_list():\n",
    "    assert check_all_true_in_list([1, True, 'hello']) == True\n",
    "    assert check_all_true_in_list([1, 0, 'hello']) == False\n",
    "\n",
    "def test_get_current_time():\n",
    "    import time\n",
    "    assert abs(get_current_time() - time.time()) < 3600  # tested within 3600 seconds"
   ]
  }
 ],
 "metadata": {
  "kernelspec": {
   "display_name": "Python 3",
   "language": "python",
   "name": "python3"
  },
  "language_info": {
   "codemirror_mode": {
    "name": "ipython",
    "version": 3
   },
   "file_extension": ".py",
   "mimetype": "text/x-python",
   "name": "python",
   "nbconvert_exporter": "python",
   "pygments_lexer": "ipython3",
   "version": "3.9.5"
  },
  "orig_nbformat": 4
 },
 "nbformat": 4,
 "nbformat_minor": 2
}
