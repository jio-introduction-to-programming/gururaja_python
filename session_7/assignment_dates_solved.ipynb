{
 "cells": [
  {
   "cell_type": "code",
   "execution_count": 1,
   "metadata": {},
   "outputs": [
    {
     "ename": "ModuleNotFoundError",
     "evalue": "No module named 'assignment_dt'",
     "output_type": "error",
     "traceback": [
      "\u001b[1;31m---------------------------------------------------------------------------\u001b[0m",
      "\u001b[1;31mModuleNotFoundError\u001b[0m                       Traceback (most recent call last)",
      "Cell \u001b[1;32mIn[1], line 1\u001b[0m\n\u001b[1;32m----> 1\u001b[0m \u001b[39mfrom\u001b[39;00m \u001b[39massignment_dt\u001b[39;00m \u001b[39mimport\u001b[39;00m (\n\u001b[0;32m      2\u001b[0m     datetime_to_str_1, datetime_to_str_2, datetime_to_str_3, datetime_to_str_4, datetime_to_str_5,\n\u001b[0;32m      3\u001b[0m     datetime_to_str_6, datetime_to_str_7, datetime_to_str_8, datetime_to_str_9, datetime_to_str_10,\n\u001b[0;32m      4\u001b[0m     str_to_datetime_1, str_to_datetime_2, str_to_datetime_3, str_to_datetime_4, str_to_datetime_5,\n\u001b[0;32m      5\u001b[0m     str_to_datetime_6, str_to_datetime_7, str_to_datetime_8, str_to_datetime_9, str_to_datetime_10\n\u001b[0;32m      6\u001b[0m )\n\u001b[0;32m      7\u001b[0m \u001b[39mfrom\u001b[39;00m \u001b[39mdatetime\u001b[39;00m \u001b[39mimport\u001b[39;00m datetime\n\u001b[0;32m      9\u001b[0m \u001b[39m# datetime to string tests\u001b[39;00m\n",
      "\u001b[1;31mModuleNotFoundError\u001b[0m: No module named 'assignment_dt'"
     ]
    }
   ],
   "source": [
    "from assignment_dt import (\n",
    "    datetime_to_str_1, datetime_to_str_2, datetime_to_str_3, datetime_to_str_4, datetime_to_str_5,\n",
    "    datetime_to_str_6, datetime_to_str_7, datetime_to_str_8, datetime_to_str_9, datetime_to_str_10,\n",
    "    str_to_datetime_1, str_to_datetime_2, str_to_datetime_3, str_to_datetime_4, str_to_datetime_5,\n",
    "    str_to_datetime_6, str_to_datetime_7, str_to_datetime_8, str_to_datetime_9, str_to_datetime_10\n",
    ")\n",
    "from datetime import datetime\n",
    "\n",
    "# datetime to string tests\n",
    "def test_datetime_to_str_1():\n",
    "    assert datetime_to_str_1(datetime(2023, 7, 19)) == \"2023-07-19\"\n",
    "\n",
    "def test_datetime_to_str_2():\n",
    "    assert datetime_to_str_2(datetime(2023, 7, 19)) == \"23-07-19\"\n",
    "\n",
    "def test_datetime_to_str_3():\n",
    "    assert datetime_to_str_3(datetime(2023, 7, 19)) == \"July 19, 2023\"\n",
    "\n",
    "def test_datetime_to_str_4():\n",
    "    assert datetime_to_str_4(datetime(2023, 7, 19)) == \"Jul 19, 2023\"\n",
    "\n",
    "def test_datetime_to_str_5():\n",
    "    assert datetime_to_str_5(datetime(2023, 7, 19)) == \"19 July 2023\"\n",
    "\n",
    "def test_datetime_to_str_6():\n",
    "    assert datetime_to_str_6(datetime(2023, 7, 19)) == \"Wednesday July 19, 2023\"\n",
    "\n",
    "def test_datetime_to_str_7():\n",
    "    assert datetime_to_str_7(datetime(2023, 7, 19)) == \"Wed July 19, 2023\"\n",
    "\n",
    "def test_datetime_to_str_8():\n",
    "    assert datetime_to_str_8(datetime(2023, 7, 19, 10, 30, 45)) == \"2023-07-19 10:30:45\"\n",
    "\n",
    "def test_datetime_to_str_9():\n",
    "    assert datetime_to_str_9(datetime(2023, 7, 19, 10, 30, 45)) == \"10:30:45\"\n",
    "\n",
    "def test_datetime_to_str_10():\n",
    "    assert datetime_to_str_10(datetime(2023, 7, 19, 10, 30, 45)) == \"10:30 AM\"\n",
    "\n",
    "# string to datetime tests\n",
    "def test_str_to_datetime_1():\n",
    "    assert str_to_datetime_1(\"2023-07-19\") == datetime(2023, 7, 19)\n",
    "\n",
    "def test_str_to_datetime_2():\n",
    "    assert str_to_datetime_2(\"23-07-19\") == datetime(2023, 7, 19)\n",
    "\n",
    "def test_str_to_datetime_3():\n",
    "    assert str_to_datetime_3(\"July 19, 2023\") == datetime(2023, 7, 19)\n",
    "\n",
    "def test_str_to_datetime_4():\n",
    "    assert str_to_datetime_4(\"Jul 19, 2023\") == datetime(2023, 7, 19)\n",
    "\n",
    "def test_str_to_datetime_5():\n",
    "    assert str_to_datetime_5(\"19 July 2023\") == datetime(2023, 7, 19)\n",
    "\n",
    "def test_str_to_datetime_6():\n",
    "    assert str_to_datetime_6(\"Wednesday July 19, 2023\") == datetime(2023, 7, 19)\n",
    "\n",
    "def test_str_to_datetime_7():\n",
    "    assert str_to_datetime_7(\"Wed July 19, 2023\") == datetime(2023, 7, 19)\n",
    "\n",
    "def test_str_to_datetime_8():\n",
    "    assert str_to_datetime_8(\"2023-07-19 10:30:45\") == datetime(2023, 7, 19, 10, 30, 45)\n",
    "\n",
    "def test_str_to_datetime_9():\n",
    "    assert str_to_datetime_9(\"10:30:45\") == datetime(1900, 1, 1, 10, 30, 45)  # Default date is set to Jan 1, 1900\n",
    "\n",
    "def test_str_to_datetime_10():\n",
    "    assert str_to_datetime_10(\"10:30 AM\") == datetime(1900, 1, 1, 10, 30)  # Default date is set to Jan 1, 1900 and 24-hour format is used"
   ]
  },
  {
   "cell_type": "code",
   "execution_count": null,
   "metadata": {},
   "outputs": [],
   "source": []
  }
 ],
 "metadata": {
  "kernelspec": {
   "display_name": "Python 3",
   "language": "python",
   "name": "python3"
  },
  "language_info": {
   "codemirror_mode": {
    "name": "ipython",
    "version": 3
   },
   "file_extension": ".py",
   "mimetype": "text/x-python",
   "name": "python",
   "nbconvert_exporter": "python",
   "pygments_lexer": "ipython3",
   "version": "3.9.5"
  },
  "orig_nbformat": 4
 },
 "nbformat": 4,
 "nbformat_minor": 2
}
