{
 "cells": [
  {
   "cell_type": "code",
   "execution_count": 1,
   "metadata": {},
   "outputs": [
    {
     "ename": "ImportError",
     "evalue": "cannot import name 'Vehicle' from 'assignment' (unknown location)",
     "output_type": "error",
     "traceback": [
      "\u001b[1;31m---------------------------------------------------------------------------\u001b[0m",
      "\u001b[1;31mImportError\u001b[0m                               Traceback (most recent call last)",
      "Cell \u001b[1;32mIn[1], line 1\u001b[0m\n\u001b[1;32m----> 1\u001b[0m \u001b[39mfrom\u001b[39;00m \u001b[39massignment\u001b[39;00m \u001b[39mimport\u001b[39;00m Vehicle, Animal, Plant, Tree\n\u001b[0;32m      3\u001b[0m \u001b[39m# Test Vehicle class\u001b[39;00m\n\u001b[0;32m      4\u001b[0m \u001b[39mdef\u001b[39;00m \u001b[39mtest_vehicle\u001b[39m():\n",
      "\u001b[1;31mImportError\u001b[0m: cannot import name 'Vehicle' from 'assignment' (unknown location)"
     ]
    }
   ],
   "source": [
    "from assignment import Vehicle, Animal, Plant, Tree\n",
    "\n",
    "# Test Vehicle class\n",
    "def test_vehicle():\n",
    "    v = Vehicle('Ferrari', 200, 10000)\n",
    "    assert v.name == 'Ferrari'\n",
    "    assert v.speed == 200\n",
    "    assert v.mileage == 10000\n",
    "    v.change_speed(220)\n",
    "    assert v.speed == 220\n",
    "    assert v.get_speed() == 220\n",
    "\n",
    "# Test Animal class\n",
    "def test_animal():\n",
    "    a = Animal('Lion', 10, 'Carnivore')\n",
    "    assert a.name == 'Lion'\n",
    "    assert a.age == 10\n",
    "    assert a.type == 'Carnivore'\n",
    "    a.change_age(11)\n",
    "    assert a.age == 11\n",
    "    assert a.get_age() == 11\n",
    "\n",
    "# Test Plant class\n",
    "def test_plant():\n",
    "    p = Plant('Rose', 1, 'Flower')\n",
    "    assert p.name == 'Rose'\n",
    "    assert p.height == 1\n",
    "    assert p.type == 'Flower'\n",
    "    p.change_height(1.5)\n",
    "    assert p.height == 1.5\n",
    "    assert p.get_height() == 1.5\n",
    "\n",
    "# Test Tree class (Inheritance)\n",
    "def test_inheritance():\n",
    "    t = Tree('Oak', 20, 'Tree', 100)\n",
    "    assert t.name == 'Oak'\n",
    "    assert t.height == 20\n",
    "    assert t.type == 'Tree'\n",
    "    assert t.age == 100\n",
    "    t.change_height(22)\n",
    "    assert t.height == 22\n",
    "    assert t.get_height() == 22\n",
    "    t.change_age(101)\n",
    "    assert t.age == 101\n",
    "    assert t.get_age() == 101"
   ]
  },
  {
   "cell_type": "code",
   "execution_count": null,
   "metadata": {},
   "outputs": [],
   "source": []
  }
 ],
 "metadata": {
  "kernelspec": {
   "display_name": "Python 3",
   "language": "python",
   "name": "python3"
  },
  "language_info": {
   "codemirror_mode": {
    "name": "ipython",
    "version": 3
   },
   "file_extension": ".py",
   "mimetype": "text/x-python",
   "name": "python",
   "nbconvert_exporter": "python",
   "pygments_lexer": "ipython3",
   "version": "3.9.5"
  },
  "orig_nbformat": 4
 },
 "nbformat": 4,
 "nbformat_minor": 2
}
