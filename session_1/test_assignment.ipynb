{
 "cells": [
  {
   "cell_type": "markdown",
   "metadata": {},
   "source": [
    "Session-1"
   ]
  },
  {
   "cell_type": "code",
   "execution_count": null,
   "metadata": {},
   "outputs": [],
   "source": [
    "from assignment import ( add_one_to_number, add_two_numbers, subtract, \n",
    "                        sum_first_n_natural_numbers, divide_x_by_y_float, \n",
    "                        remainder_x_by_y, divide_x_by_y_numeric )\n",
    "\n",
    "def test_add_one_to_number():\n",
    "    assert add_one_to_number(1) == 2 \n",
    "    assert add_one_to_number(5) == 6 \n",
    "\n",
    "def test_add_two_numbers():\n",
    "    assert add_two_numbers(5, 7) == 12 \n",
    "    assert add_two_numbers(-4, -8) == -12 \n",
    "\n",
    "def test_subtract():\n",
    "    assert subtract(9, 11) == -2  \n",
    "    assert subtract(-2, -2) == 0\n",
    "    assert subtract(100, 3) == 97 \n",
    "\n",
    "def test_sum_first_n_natural_numbers():\n",
    "    assert sum_first_n_natural_numbers(1) == 1 \n",
    "    assert sum_first_n_natural_numbers(2) == 3 \n",
    "    assert sum_first_n_natural_numbers(3) == 6 \n",
    "    assert sum_first_n_natural_numbers(10) == 55 \n",
    "    assert sum_first_n_natural_numbers(100) == 5050\n",
    "\n",
    "def test_divide_x_by_y_float():\n",
    "    assert divide_x_by_y_float(0, 12) == 0.0\n",
    "    assert divide_x_by_y_float(90, 2) == 45.0\n",
    "    assert divide_x_by_y_float(2, 10) == 0.2\n",
    "    assert divide_x_by_y_float(-18, 36) == -0.5\n",
    "\n",
    "\n",
    "def test_divide_x_by_y_numeric():\n",
    "    assert divide_x_by_y_numeric(0, 12) == 0\n",
    "    assert divide_x_by_y_numeric(90, 2) == 45\n",
    "    assert divide_x_by_y_numeric(2, 10) == 0\n",
    "    assert divide_x_by_y_numeric(-18, 36) == -1 \n",
    "\n",
    "def test_remainder_x_by_y():\n",
    "    assert remainder_x_by_y(10, 2) == 0\n",
    "    assert remainder_x_by_y(0, 5) == 0\n",
    "    assert remainder_x_by_y(27, 4) == 3 \n",
    "    assert remainder_x_by_y(987, 10) == 7 \n",
    "    assert remainder_x_by_y(93, 12) == 9 "
   ]
  }
 ],
 "metadata": {
  "language_info": {
   "name": "python"
  },
  "orig_nbformat": 4
 },
 "nbformat": 4,
 "nbformat_minor": 2
}
