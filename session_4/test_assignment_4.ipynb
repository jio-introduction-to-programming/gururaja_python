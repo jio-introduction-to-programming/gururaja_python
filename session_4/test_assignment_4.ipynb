{
 "cells": [
  {
   "cell_type": "code",
   "execution_count": 4,
   "metadata": {},
   "outputs": [
    {
     "ename": "ImportError",
     "evalue": "cannot import name 'add_one_to_number' from 'assignment' (unknown location)",
     "output_type": "error",
     "traceback": [
      "\u001b[1;31m---------------------------------------------------------------------------\u001b[0m",
      "\u001b[1;31mImportError\u001b[0m                               Traceback (most recent call last)",
      "Cell \u001b[1;32mIn[4], line 1\u001b[0m\n\u001b[1;32m----> 1\u001b[0m \u001b[39mfrom\u001b[39;00m \u001b[39massignment\u001b[39;00m \u001b[39mimport\u001b[39;00m ( add_one_to_number, add_two_numbers, subtract, \n\u001b[0;32m      2\u001b[0m                         sum_first_n_natural_numbers, divide_x_by_y_float, \n\u001b[0;32m      3\u001b[0m                         remainder_x_by_y, divide_x_by_y_numeric )\n\u001b[0;32m      5\u001b[0m \u001b[39mdef\u001b[39;00m \u001b[39mtest_add_one_to_number\u001b[39m():\n\u001b[0;32m      6\u001b[0m     \u001b[39massert\u001b[39;00m add_one_to_number(\u001b[39m1\u001b[39m) \u001b[39m==\u001b[39m \u001b[39m2\u001b[39m \n",
      "\u001b[1;31mImportError\u001b[0m: cannot import name 'add_one_to_number' from 'assignment' (unknown location)"
     ]
    }
   ],
   "source": [
    "from assignment import ( add_one_to_number, add_two_numbers, subtract, \n",
    "                        sum_first_n_natural_numbers, divide_x_by_y_float, \n",
    "                        remainder_x_by_y, divide_x_by_y_numeric )\n",
    "\n",
    "def test_add_one_to_number():\n",
    "    assert add_one_to_number(1) == 2 \n",
    "    assert add_one_to_number(5) == 6 \n",
    "\n",
    "def test_add_two_numbers():\n",
    "    assert add_two_numbers(5, 7) == 12 \n",
    "    assert add_two_numbers(-4, -8) == -12 \n",
    "\n",
    "def test_subtract():\n",
    "    assert subtract(9, 11) == -2  \n",
    "    assert subtract(-2, -2) == 4 \n",
    "    assert subtract(100, 3) == 97 \n",
    "\n",
    "def test_sum_first_n_natural_numbers():\n",
    "    assert sum_first_n_natural_numbers(1) == 1 \n",
    "    assert sum_first_n_natural_numbers(2) == 3 \n",
    "    assert sum_first_n_natural_numbers(3) == 6 \n",
    "    assert sum_first_n_natural_numbers(10) == 55 \n",
    "    assert sum_first_n_natural_numbers(100) == 5050\n",
    "\n",
    "def test_divide_x_by_y_float():\n",
    "    assert divide_x_by_y_float(0, 12) == 0.0\n",
    "    assert divide_x_by_y_float(90, 2) == 45.0\n",
    "    assert divide_x_by_y_float(2, 10) == 0.2\n",
    "    assert divide_x_by_y_float(-18, 36) == -0.5\n",
    "\n",
    "\n",
    "def test_divide_x_by_y_numeric():\n",
    "    assert divide_x_by_y_numeric(0, 12) == 0\n",
    "    assert divide_x_by_y_numeric(90, 2) == 45\n",
    "    assert divide_x_by_y_numeric(2, 10) == 0\n",
    "    assert divide_x_by_y_numeric(-18, 36) == -1 \n",
    "\n",
    "def test_remainder_x_by_y():\n",
    "    assert remainder_x_by_y(10, 2) == 0\n",
    "    assert remainder_x_by_y(0, 5) == 0\n",
    "    assert remainder_x_by_y(27, 4) == 3 \n",
    "    assert remainder_x_by_y(987, 10) == 7 \n",
    "    assert remainder_x_by_y(93, 12) == 9 "
   ]
  },
  {
   "cell_type": "code",
   "execution_count": null,
   "metadata": {},
   "outputs": [],
   "source": []
  }
 ],
 "metadata": {
  "kernelspec": {
   "display_name": "Python 3",
   "language": "python",
   "name": "python3"
  },
  "language_info": {
   "codemirror_mode": {
    "name": "ipython",
    "version": 3
   },
   "file_extension": ".py",
   "mimetype": "text/x-python",
   "name": "python",
   "nbconvert_exporter": "python",
   "pygments_lexer": "ipython3",
   "version": "3.9.5"
  },
  "orig_nbformat": 4
 },
 "nbformat": 4,
 "nbformat_minor": 2
}
